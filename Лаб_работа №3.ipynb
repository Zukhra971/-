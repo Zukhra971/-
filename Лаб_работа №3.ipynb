{
  "nbformat": 4,
  "nbformat_minor": 0,
  "metadata": {
    "colab": {
      "provenance": []
    },
    "kernelspec": {
      "name": "python3",
      "display_name": "Python 3"
    },
    "language_info": {
      "name": "python"
    }
  },
  "cells": [
    {
      "cell_type": "code",
      "execution_count": 1,
      "metadata": {
        "colab": {
          "base_uri": "https://localhost:8080/"
        },
        "id": "X9G6bO-ye_W7",
        "outputId": "34662038-2175-471c-f73d-3e66764e485e"
      },
      "outputs": [
        {
          "output_type": "stream",
          "name": "stdout",
          "text": [
            "Ошибка: Невозможно открыть камеру.\n"
          ]
        }
      ],
      "source": [
        "import cv2\n",
        "import time\n",
        "import numpy as np\n",
        "from google.colab.patches import cv2_imshow\n",
        "\n",
        "def process_frame(frame, prev_time):\n",
        "\n",
        "\n",
        "    gray = cv2.cvtColor(frame, cv2.COLOR_BGR2GRAY)\n",
        "\n",
        "    face_cascade = cv2.CascadeClassifier(cv2.data.haarcascades + 'haarcascade_frontalface_default.xml')\n",
        "    eye_cascade = cv2.CascadeClassifier(cv2.data.haarcascades + 'haarcascade_eye.xml')\n",
        "    smile_cascade = cv2.CascadeClassifier(cv2.data.haarcascades + 'haarcascade_smile.xml')\n",
        "\n",
        "    faces = face_cascade.detectMultiScale(gray, 1.1, 4)\n",
        "    smile = False\n",
        "    closed_eyes = False\n",
        "    if len(faces) > 0:\n",
        "       for (x, y, w, h) in faces:\n",
        "           cv2.rectangle(frame, (x, y), (x + w, y + h), (255, 0, 0), 2)\n",
        "           face_roi = gray[y:y + h, x:x + w]\n",
        "           frame_roi_color = frame[y:y + h, x:x + w]\n",
        "           eyes = eye_cascade.detectMultiScale(face_roi,1.1,4)\n",
        "           smiles = smile_cascade.detectMultiScale(face_roi, 1.8, 20)\n",
        "           if len(smiles) > 0:\n",
        "               for (sx, sy, sw, sh) in smiles:\n",
        "                   cv2.rectangle(frame_roi_color, (sx, sy), (sx + sw, sy + sh), (0, 255, 0), 2)\n",
        "                   smile = True\n",
        "\n",
        "           if len(eyes) > 0:\n",
        "                if len(eyes) == 2:\n",
        "                    for(ex,ey,ew,eh) in eyes:\n",
        "                        cv2.rectangle(frame_roi_color, (ex,ey), (ex+ew, ey+eh), (0,0,255), 2)\n",
        "                elif len(eyes) == 1:\n",
        "                     closed_eyes = True\n",
        "                     for(ex,ey,ew,eh) in eyes:\n",
        "                        cv2.rectangle(frame_roi_color, (ex,ey), (ex+ew, ey+eh), (0,0,255), 2)\n",
        "\n",
        "\n",
        "    if not smile:\n",
        "            cv2.putText(frame, \"Улыбнись\", (10, 30), cv2.FONT_HERSHEY_SIMPLEX, 1, (0, 0, 255), 2)\n",
        "    if closed_eyes:\n",
        "         cv2.putText(frame, \"Открой глаза\", (10, 60), cv2.FONT_HERSHEY_SIMPLEX, 1, (0, 0, 255), 2)\n",
        "\n",
        "\n",
        "    current_time = time.time()\n",
        "    time_difference = current_time - prev_time\n",
        "    if time_difference > 0:\n",
        "        fps = 1 / time_difference\n",
        "        cv2.putText(frame, f\"FPS: {fps:.2f}\", (10, 90), cv2.FONT_HERSHEY_SIMPLEX, 1, (255, 255, 255), 2)\n",
        "\n",
        "\n",
        "    return frame, current_time\n",
        "\n",
        "if __name__ == '__main__':\n",
        "\n",
        "    cap = cv2.VideoCapture(0)\n",
        "\n",
        "    if not cap.isOpened():\n",
        "        print(\"Ошибка: Невозможно открыть камеру.\")\n",
        "        exit()\n",
        "\n",
        "    prev_time = 0\n",
        "    try:\n",
        "        while True:\n",
        "            ret, frame = cap.read()\n",
        "\n",
        "            if not ret:\n",
        "                break\n",
        "\n",
        "            frame, prev_time = process_frame(frame, prev_time)\n",
        "\n",
        "            cv2_imshow(frame)\n",
        "\n",
        "            if cv2.waitKey(1) & 0xFF == ord('q'):\n",
        "                break\n",
        "\n",
        "    except KeyboardInterrupt:\n",
        "        pass\n",
        "\n",
        "    finally:\n",
        "        cap.release()\n",
        "        cv2.destroyAllWindows()"
      ]
    }
  ]
}